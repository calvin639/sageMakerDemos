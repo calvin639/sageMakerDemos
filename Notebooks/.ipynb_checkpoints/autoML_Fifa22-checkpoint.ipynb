{
 "cells": [
  {
   "cell_type": "code",
   "execution_count": 2,
   "metadata": {},
   "outputs": [],
   "source": [
    "import pandas as pd\n",
    "import numpy as np"
   ]
  },
  {
   "cell_type": "code",
   "execution_count": 3,
   "metadata": {},
   "outputs": [
    {
     "name": "stderr",
     "output_type": "stream",
     "text": [
      "/opt/conda/lib/python3.7/site-packages/ipykernel_launcher.py:9: SettingWithCopyWarning: \n",
      "A value is trying to be set on a copy of a slice from a DataFrame\n",
      "\n",
      "See the caveats in the documentation: https://pandas.pydata.org/pandas-docs/stable/user_guide/indexing.html#returning-a-view-versus-a-copy\n",
      "  if __name__ == '__main__':\n"
     ]
    }
   ],
   "source": [
    "fifa = pd.read_csv(\"../Data/fifa22.csv\",low_memory=False)\n",
    "#Change all positions into either G=Gaolskeeper, D=Defence, M=Midfield, A=Attacking\n",
    "posDict={'GK':'GK', 'LW':\"A\", 'CAM':'A', 'RW':'A', 'CM':'M', 'RWB':'D', 'CDM':'M', 'LM':'M',\n",
    "         'CF':'A', 'ST':'A', 'LB':'D', 'CB':'D', 'RB':'D', 'LWB':'D', 'RM':'M'}\n",
    "#Apply to data\n",
    "pos=list(fifa['player_positions'])\n",
    "fifa['position']=fifa['player_positions']\n",
    "for i in range(len(pos)):\n",
    "    fifa['position'][i]=posDict[(pos[i].split(', '))[0]] #Take first value\n",
    "    \n",
    "fifa=fifa.drop(columns=['player_positions'])"
   ]
  },
  {
   "cell_type": "code",
   "execution_count": 5,
   "metadata": {},
   "outputs": [],
   "source": [
    "fifa.to_csv(\"../Data/autoFifa22.csv\")"
   ]
  },
  {
   "cell_type": "code",
   "execution_count": 6,
   "metadata": {},
   "outputs": [
    {
     "name": "stdout",
     "output_type": "stream",
     "text": [
      "Upload Successful\n"
     ]
    }
   ],
   "source": [
    "import boto3\n",
    "s3 = boto3.client('s3')\n",
    "\n",
    "def uploadDataS3(data, bucket, key):\n",
    "    try:\n",
    "        s3.upload_file(data, bucket, key)\n",
    "        print(\"Upload Successful\")\n",
    "        return True\n",
    "    except: \n",
    "        print(\"Upload Failed\")\n",
    "    \n",
    "uploaded = uploadDataS3('../Data/autoFifa22.csv', 'sagemaker-us-east-1-022761975017', 'autoML/autoFifa22.csv')"
   ]
  },
  {
   "cell_type": "code",
   "execution_count": 47,
   "metadata": {},
   "outputs": [
    {
     "name": "stdout",
     "output_type": "stream",
     "text": [
      "Done\n",
      "time required for predicting 19239 data point: 874.93 seconds\n",
      "accuracy of model: 88.9%\n"
     ]
    }
   ],
   "source": [
    "### Lets use our best model to make predictions\n",
    "import boto3, sys, time\n",
    "\n",
    "ep_name = 'fifaAutoMl-Endpoint-2022-04-12'\n",
    "sm_rt = boto3.Session().client('runtime.sagemaker')\n",
    "\n",
    "start_time = time.time()\n",
    "predictions = []\n",
    "labels = []\n",
    "with open('../Data/autoFifa22.csv') as f:\n",
    "    lines = f.readlines()\n",
    "    for l in lines[1:]:   # Skip header\n",
    "        l = l.split(',')      # Split CSV line into features\n",
    "        label = l[-1]         # Store 'position' label\n",
    "        l = l[:-1]            # Remove label\n",
    "        l = ','.join(l)       # Rebuild CSV line without label\n",
    "                \n",
    "        response = sm_rt.invoke_endpoint(EndpointName=ep_name, \n",
    "                                         ContentType='text/csv',       \n",
    "                                         Accept='text/csv', Body=l)\n",
    "\n",
    "        response = response['Body'].read().decode(\"utf-8\")\n",
    "        #predictions.append(response)\n",
    "        cur_predictions = response[0]\n",
    "        predictions.append(cur_predictions)\n",
    "        labels.append(label[:-1])\n",
    "        #print (\"label %s response %s\" %(label,response))\n",
    "\n",
    "print (\"Done\")\n",
    "run_time = time.time() - start_time\n",
    "predictions=np.array(predictions)\n",
    "labels=np.array(labels)\n",
    "test_size = labels.shape[0]\n",
    "num_correct = sum(predictions == labels)\n",
    "accuracy = num_correct / float(test_size)\n",
    "print(\"time required for predicting %d data point: %.2f seconds\" % (test_size, run_time))\n",
    "print(\"accuracy of model: %.1f%%\" % (accuracy * 100))               \n",
    "\n"
   ]
  },
  {
   "cell_type": "code",
   "execution_count": 48,
   "metadata": {},
   "outputs": [
    {
     "name": "stdout",
     "output_type": "stream",
     "text": [
      "Deleted fifaAutoMl-Endpoint-2022-04-12\n"
     ]
    }
   ],
   "source": [
    "def delete_endpoint(name):\n",
    "    try:\n",
    "        boto3.client(\"sagemaker\").delete_endpoint(EndpointName=name)\n",
    "        print(f\"Deleted {name}\")\n",
    "    except:\n",
    "        print(f\"Already deleted: {name}\")\n",
    "\n",
    "\n",
    "delete_endpoint(ep_name)"
   ]
  },
  {
   "cell_type": "code",
   "execution_count": null,
   "metadata": {},
   "outputs": [],
   "source": []
  }
 ],
 "metadata": {
  "instance_type": "ml.t3.medium",
  "kernelspec": {
   "display_name": "Python 3 (Data Science)",
   "language": "python",
   "name": "python3__SAGEMAKER_INTERNAL__arn:aws:sagemaker:us-east-1:081325390199:image/datascience-1.0"
  },
  "language_info": {
   "codemirror_mode": {
    "name": "ipython",
    "version": 3
   },
   "file_extension": ".py",
   "mimetype": "text/x-python",
   "name": "python",
   "nbconvert_exporter": "python",
   "pygments_lexer": "ipython3",
   "version": "3.7.10"
  }
 },
 "nbformat": 4,
 "nbformat_minor": 4
}
